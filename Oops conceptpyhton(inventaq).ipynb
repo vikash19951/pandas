{
 "cells": [
  {
   "cell_type": "markdown",
   "metadata": {},
   "source": [
    " # oops\n"
   ]
  },
  {
   "cell_type": "code",
   "execution_count": 50,
   "metadata": {
    "scrolled": true
   },
   "outputs": [
    {
     "name": "stdout",
     "output_type": "stream",
     "text": [
      "before\n",
      "inside\n",
      "After\n",
      "Rohit\n"
     ]
    }
   ],
   "source": [
    "class student():\n",
    "    pass\n",
    "    def __init__(self,name,age,course):   #__init__  ------>instructor \n",
    "        print(\"inside\")\n",
    "        self.name = name\n",
    "        self.age = age\n",
    "        self.course = course\n",
    "print(\"before\")       \n",
    "obj  = student(\"Rohit\",30,\"python\")   #obj ==object\n",
    "print(\"After\")\n",
    "print(obj.name)\n"
   ]
  },
  {
   "cell_type": "markdown",
   "metadata": {},
   "source": []
  },
  {
   "cell_type": "code",
   "execution_count": 9,
   "metadata": {},
   "outputs": [
    {
     "name": "stdout",
     "output_type": "stream",
     "text": [
      "inside\n",
      "Rohit\n",
      "24\n",
      "Python\n",
      "A+\n"
     ]
    }
   ],
   "source": [
    "class student():\n",
    "    pass\n",
    "    def __init__(self,name,age,course,remark):   #__init__  ------>instructor \n",
    "        print(\"inside\")\n",
    "        self.name = name\n",
    "        self.age = age\n",
    "        self.course = course\n",
    "        self.remark = remark\n",
    "    def printinfo(self):\n",
    "        print(self.name)\n",
    "        print(self.age)\n",
    "        print(self.course)\n",
    "        print(self.remark)\n",
    "obj2 = student(\"Rohit\",24,\"Python\",\"A+\")\n",
    "obj2.printinfo()"
   ]
  },
  {
   "cell_type": "code",
   "execution_count": 2,
   "metadata": {},
   "outputs": [
    {
     "name": "stdout",
     "output_type": "stream",
     "text": [
      "inside\n",
      "Rohit\n",
      "24\n",
      "Python\n",
      "4\n",
      "class variable 4\n",
      "inside\n",
      "9\n",
      "Rahul\n",
      "30\n",
      "java\n",
      "5\n"
     ]
    }
   ],
   "source": [
    "class student():\n",
    "    stdcount = 0   #class variable\n",
    "    pass\n",
    "    def __init__(self,name,age,course,roll_no):   #__init__  ------>instructor \n",
    "        \n",
    "        print(\"inside\")\n",
    "        self.name = name\n",
    "        self.age = age\n",
    "        self.course = course\n",
    "        self.roll_no = roll_no\n",
    "        student.stdcount+=roll_no\n",
    "    def printinfo(self):\n",
    "        print(self.name)\n",
    "        print(self.age)\n",
    "        print(self.course)\n",
    "        print(self.roll_no)\n",
    "        \n",
    "obj2 = student(\"Rohit\",24,\"Python\",4)\n",
    "obj2.printinfo()\n",
    "print(\"class variable\", student.stdcount)\n",
    "obj2 = student(\"Rahul\",30,\"java\",5)\n",
    "print(student.stdcount)\n",
    "obj2.printinfo()"
   ]
  },
  {
   "cell_type": "code",
   "execution_count": 45,
   "metadata": {},
   "outputs": [
    {
     "name": "stdout",
     "output_type": "stream",
     "text": [
      "Total fee 18000\n",
      "Discount price 16200.0\n"
     ]
    }
   ],
   "source": [
    "class student():\n",
    "    stdcount = 0   #clas variable\n",
    "    fee = 18000\n",
    "    pass\n",
    "    def __init__(self,name,age,course,roll_no):   #__init__  ------>instructor \n",
    "        \n",
    "        print(\"inside\")\n",
    "        self.name = name\n",
    "        self.age = age\n",
    "        self.course = course\n",
    "        self.roll_no = roll_no\n",
    "        student.stdcount+=roll_no\n",
    "    def printinfo(self):\n",
    "        print(self.name)\n",
    "        print(self.age)\n",
    "        print(self.course)\n",
    "        print(self.roll_no)\n",
    "    @classmethod   # ------>decorator\n",
    "    def disprice(cls,per):\n",
    "        price =(cls.fee*per)/100\n",
    "        cls.fee = cls.fee-price\n",
    "        return cls.fee\n",
    "print(\"Total fee\",student.fee)\n",
    "print(\"Discount price\",student.disprice(10))\n"
   ]
  },
  {
   "cell_type": "code",
   "execution_count": 49,
   "metadata": {},
   "outputs": [
    {
     "name": "stdout",
     "output_type": "stream",
     "text": [
      "This is static method\n",
      "None\n",
      "Total fee 18000\n",
      "Discount price 16200.0\n"
     ]
    }
   ],
   "source": [
    "#static function\n",
    "class student():\n",
    "    stdcount = 0   #clas variable\n",
    "    fee = 18000\n",
    "    pass\n",
    "    def __init__(self,name,age,course,roll_no):   #__init__  ------>instructor \n",
    "        \n",
    "        print(\"inside\")\n",
    "        self.name = name\n",
    "        self.age = age\n",
    "        self.course = course\n",
    "        self.roll_no = roll_no\n",
    "        student.stdcount+=roll_no\n",
    "    def printinfo(self):\n",
    "        print(self.name)\n",
    "        print(self.age)\n",
    "        print(self.course)\n",
    "        print(self.roll_no)\n",
    "    @classmethod   # ------>decorator\n",
    "    def disprice(cls,per):\n",
    "        price =(cls.fee*per)/100\n",
    "        cls.fee = cls.fee-price\n",
    "        return cls.fee\n",
    "    @staticmethod  #------>staic  \n",
    "    def fun():\n",
    "        print(\"This is static method\")\n",
    "print(student.fun())\n",
    "print(\"Total fee\",student.fee)\n",
    "print(\"Discount price\",student.disprice(10))\n"
   ]
  },
  {
   "cell_type": "markdown",
   "metadata": {},
   "source": [
    "# Inheriate"
   ]
  },
  {
   "cell_type": "code",
   "execution_count": 89,
   "metadata": {},
   "outputs": [
    {
     "name": "stdout",
     "output_type": "stream",
     "text": [
      "penta house\n"
     ]
    }
   ],
   "source": [
    "class father():\n",
    "    car = 'Mercidies '\n",
    "    bankbalance = '10000 trillian'\n",
    "    house = 'penta house'\n",
    "    def business(self):\n",
    "        print(\"petro\")\n",
    "obj = father()\n",
    "print(obj.house)"
   ]
  },
  {
   "cell_type": "code",
   "execution_count": 87,
   "metadata": {},
   "outputs": [
    {
     "name": "stdout",
     "output_type": "stream",
     "text": [
      "Mercidies \n",
      "10000 trillian\n"
     ]
    }
   ],
   "source": [
    "class father():\n",
    "    car = 'Mercidies '\n",
    "    bankbalance = '10000 trillian'\n",
    "    house = 'penta house'\n",
    "    def business(self):\n",
    "        print(\"petro\")\n",
    "class son(father):\n",
    "        pass\n",
    "print(son.car)\n",
    "print(son.bankbalance)"
   ]
  },
  {
   "cell_type": "code",
   "execution_count": 88,
   "metadata": {},
   "outputs": [
    {
     "name": "stdout",
     "output_type": "stream",
     "text": [
      "krity\n",
      "None\n"
     ]
    }
   ],
   "source": [
    "class father():\n",
    "    car = 'Mercidies '\n",
    "    bankbalance = '10000 trillian'\n",
    "    house = 'penta house'\n",
    "    def to_many(self):\n",
    "        print(\"prity\")\n",
    "    def business(self):\n",
    "        print(\"petro\")\n",
    "class son(father):\n",
    "    def to_many(self):\n",
    "        print(\"krity\")\n",
    "    \n",
    "print(son.to_many(''))"
   ]
  },
  {
   "cell_type": "code",
   "execution_count": 66,
   "metadata": {},
   "outputs": [
    {
     "ename": "NameError",
     "evalue": "name 'colour' is not defined",
     "output_type": "error",
     "traceback": [
      "\u001b[1;31m---------------------------------------------------------------------------\u001b[0m",
      "\u001b[1;31mNameError\u001b[0m                                 Traceback (most recent call last)",
      "\u001b[1;32m<ipython-input-66-dc5cb9884483>\u001b[0m in \u001b[0;36m<module>\u001b[1;34m\u001b[0m\n\u001b[1;32m----> 1\u001b[1;33m \u001b[1;32mclass\u001b[0m \u001b[0mTata_cars\u001b[0m\u001b[1;33m(\u001b[0m\u001b[1;33m)\u001b[0m\u001b[1;33m:\u001b[0m\u001b[1;33m\u001b[0m\u001b[1;33m\u001b[0m\u001b[0m\n\u001b[0m\u001b[0;32m      2\u001b[0m     \u001b[0mCompany_type\u001b[0m \u001b[1;33m=\u001b[0m \u001b[1;34m'Automotive'\u001b[0m\u001b[1;33m\u001b[0m\u001b[1;33m\u001b[0m\u001b[0m\n\u001b[0;32m      3\u001b[0m     \u001b[0mvehicycle_type\u001b[0m \u001b[1;33m=\u001b[0m \u001b[1;34m'4_wheeler'\u001b[0m\u001b[1;33m\u001b[0m\u001b[1;33m\u001b[0m\u001b[0m\n\u001b[0;32m      4\u001b[0m     \u001b[0mhead_quater\u001b[0m \u001b[1;33m=\u001b[0m \u001b[1;34m\"Bombay House 24, Homi Mody Street, Mumbai, Maharashtra 400 001\"\u001b[0m\u001b[1;33m\u001b[0m\u001b[1;33m\u001b[0m\u001b[0m\n\u001b[0;32m      5\u001b[0m     \u001b[0mcolour\u001b[0m\u001b[1;33m\u001b[0m\u001b[1;33m\u001b[0m\u001b[0m\n",
      "\u001b[1;32m<ipython-input-66-dc5cb9884483>\u001b[0m in \u001b[0;36mTata_cars\u001b[1;34m()\u001b[0m\n\u001b[0;32m      3\u001b[0m     \u001b[0mvehicycle_type\u001b[0m \u001b[1;33m=\u001b[0m \u001b[1;34m'4_wheeler'\u001b[0m\u001b[1;33m\u001b[0m\u001b[1;33m\u001b[0m\u001b[0m\n\u001b[0;32m      4\u001b[0m     \u001b[0mhead_quater\u001b[0m \u001b[1;33m=\u001b[0m \u001b[1;34m\"Bombay House 24, Homi Mody Street, Mumbai, Maharashtra 400 001\"\u001b[0m\u001b[1;33m\u001b[0m\u001b[1;33m\u001b[0m\u001b[0m\n\u001b[1;32m----> 5\u001b[1;33m     \u001b[0mcolour\u001b[0m\u001b[1;33m\u001b[0m\u001b[1;33m\u001b[0m\u001b[0m\n\u001b[0m\u001b[0;32m      6\u001b[0m     \u001b[1;32mdef\u001b[0m \u001b[0m__init__\u001b[0m\u001b[1;33m(\u001b[0m\u001b[0mself\u001b[0m\u001b[1;33m)\u001b[0m\u001b[1;33m:\u001b[0m\u001b[1;33m\u001b[0m\u001b[1;33m\u001b[0m\u001b[0m\n\u001b[0;32m      7\u001b[0m         \u001b[0mself\u001b[0m\u001b[1;33m.\u001b[0m\u001b[0mcar_name\u001b[0m\u001b[1;33m=\u001b[0m\u001b[0mcar_name\u001b[0m\u001b[1;33m\u001b[0m\u001b[1;33m\u001b[0m\u001b[0m\n",
      "\u001b[1;31mNameError\u001b[0m: name 'colour' is not defined"
     ]
    }
   ],
   "source": [
    "class Tata_cars():\n",
    "    Company_type = 'Automotive'\n",
    "    vehicycle_type = '4_wheeler'\n",
    "    head_quater = \"Bombay House 24, Homi Mody Street, Mumbai, Maharashtra 400 001\"\n",
    "    colour\n",
    "    def __init__(self):\n",
    "        self.car_name=car_name\n",
    "        self.car_model =car_model\n",
    "        self.colour   =colour\n",
    "        self.price  = price\n",
    "    def car(car_name,car_model,colour,price):\n",
    "        pass\n",
    "        \n",
    "        \n",
    "        "
   ]
  },
  {
   "cell_type": "code",
   "execution_count": 96,
   "metadata": {},
   "outputs": [
    {
     "name": "stdout",
     "output_type": "stream",
     "text": [
      "crithi\n",
      "None\n",
      "dedfhued\n",
      "BMW\n"
     ]
    }
   ],
   "source": [
    "class father():\n",
    "    __car = \"BMW\"\n",
    "    __business = \"4 million\"\n",
    "    __house = \"penta\"\n",
    "    def  __business(self):\n",
    "        print(\"petta\")\n",
    "    def to_marry(self):\n",
    "        print(\"dedfhued\")\n",
    "\n",
    "class son(father):\n",
    "    def to_marry(self):\n",
    "        print(\"crithi\")\n",
    "E  = son()\n",
    "\n",
    "print(E.to_marry())\n",
    "dir(father)\n",
    "o=father()\n",
    "o.to_marry()\n",
    "dir(son)\n",
    "print(son._father__car)"
   ]
  },
  {
   "cell_type": "code",
   "execution_count": null,
   "metadata": {},
   "outputs": [],
   "source": []
  }
 ],
 "metadata": {
  "kernelspec": {
   "display_name": "Python 3",
   "language": "python",
   "name": "python3"
  },
  "language_info": {
   "codemirror_mode": {
    "name": "ipython",
    "version": 3
   },
   "file_extension": ".py",
   "mimetype": "text/x-python",
   "name": "python",
   "nbconvert_exporter": "python",
   "pygments_lexer": "ipython3",
   "version": "3.7.4"
  }
 },
 "nbformat": 4,
 "nbformat_minor": 2
}
