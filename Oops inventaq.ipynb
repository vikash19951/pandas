{
 "cells": [
  {
   "cell_type": "code",
   "execution_count": 12,
   "metadata": {},
   "outputs": [
    {
     "name": "stdout",
     "output_type": "stream",
     "text": [
      "enter the no5\n",
      "the number is odd\n"
     ]
    }
   ],
   "source": [
    "x = int(input(\"enter the no\"))\n",
    "if x % 2 == 0:\n",
    "    print(\"no is even\")\n",
    "else:\n",
    "    print(\"the number is odd\")"
   ]
  },
  {
   "cell_type": "code",
   "execution_count": 18,
   "metadata": {},
   "outputs": [
    {
     "name": "stdout",
     "output_type": "stream",
     "text": [
      "enter the Amount100\n",
      "(100, 10)\n"
     ]
    }
   ],
   "source": [
    "num = int(input(\"enter the Amount\"))\n",
    "per = (num*10)/100\n",
    "print(num, per)"
   ]
  },
  {
   "cell_type": "code",
   "execution_count": 7,
   "metadata": {},
   "outputs": [
    {
     "name": "stdout",
     "output_type": "stream",
     "text": [
      "enter the number100\n",
      "10% of 100 is 10\n"
     ]
    }
   ],
   "source": [
    "x =  int(input(\"enter the number\"))\n",
    "y = x//100*10\n",
    "print(\"10% of\", x ,\"is\",y)"
   ]
  },
  {
   "cell_type": "code",
   "execution_count": 20,
   "metadata": {},
   "outputs": [
    {
     "name": "stdout",
     "output_type": "stream",
     "text": [
      "600 max\n"
     ]
    }
   ],
   "source": [
    "L1=[90,60,50,100,250,-500,600]\n",
    "L2 = L1[0]\n",
    "for i in range(1,len(L1)):\n",
    "    if L2 <L1[i]:\n",
    "        L2 =L1[i]\n",
    "print(L2,\"max\")"
   ]
  },
  {
   "cell_type": "code",
   "execution_count": 21,
   "metadata": {},
   "outputs": [
    {
     "name": "stdout",
     "output_type": "stream",
     "text": [
      "-500 min value\n"
     ]
    }
   ],
   "source": [
    "L3 = L1[0]\n",
    "for i in range(1,len(L1)):\n",
    "    if L3>L1[i]:\n",
    "        L3 = L1[i]\n",
    "print(L3,\"min value\")    "
   ]
  },
  {
   "cell_type": "code",
   "execution_count": 1,
   "metadata": {},
   "outputs": [
    {
     "ename": "SyntaxError",
     "evalue": "invalid syntax (<ipython-input-1-124b7e5bb215>, line 3)",
     "output_type": "error",
     "traceback": [
      "\u001b[1;36m  File \u001b[1;32m\"<ipython-input-1-124b7e5bb215>\"\u001b[1;36m, line \u001b[1;32m3\u001b[0m\n\u001b[1;33m    l3 = l2[]\u001b[0m\n\u001b[1;37m            ^\u001b[0m\n\u001b[1;31mSyntaxError\u001b[0m\u001b[1;31m:\u001b[0m invalid syntax\n"
     ]
    }
   ],
   "source": [
    "# delete 3 without using delete function\n",
    "l2=[1,5,6,7,9,3,1,5,3,6,3,7]\n",
    "l3 = l2[]\n",
    "for i in range(1,len(l2)):\n",
    "    if"
   ]
  },
  {
   "cell_type": "code",
   "execution_count": 18,
   "metadata": {},
   "outputs": [
    {
     "name": "stdout",
     "output_type": "stream",
     "text": [
      "enter the no.5\n",
      "successful\n",
      "Unseccessfull\n"
     ]
    }
   ],
   "source": [
    "x = 5\n",
    "i =0\n",
    "while i<=5:\n",
    "    y = int(input(\"enter the no.\"))\n",
    "    if x ==y:\n",
    "        print(\"successful\")\n",
    "        i+=1\n",
    "        break\n",
    "    else:\n",
    "        print(\"please try again \")\n",
    "        \n",
    "print(\"Unseccessfull\")"
   ]
  },
  {
   "cell_type": "code",
   "execution_count": 11,
   "metadata": {},
   "outputs": [
    {
     "ename": "SyntaxError",
     "evalue": "invalid syntax (<ipython-input-11-3178bb5168a1>, line 1)",
     "output_type": "error",
     "traceback": [
      "\u001b[1;36m  File \u001b[1;32m\"<ipython-input-11-3178bb5168a1>\"\u001b[1;36m, line \u001b[1;32m1\u001b[0m\n\u001b[1;33m    elif.help()\u001b[0m\n\u001b[1;37m       ^\u001b[0m\n\u001b[1;31mSyntaxError\u001b[0m\u001b[1;31m:\u001b[0m invalid syntax\n"
     ]
    }
   ],
   "source": [
    "elif.help()"
   ]
  },
  {
   "cell_type": "markdown",
   "metadata": {},
   "source": []
  },
  {
   "cell_type": "code",
   "execution_count": null,
   "metadata": {},
   "outputs": [],
   "source": []
  },
  {
   "cell_type": "code",
   "execution_count": 1,
   "metadata": {},
   "outputs": [
    {
     "ename": "SyntaxError",
     "evalue": "invalid syntax (<ipython-input-1-d536003796da>, line 12)",
     "output_type": "error",
     "traceback": [
      "\u001b[1;36m  File \u001b[1;32m\"<ipython-input-1-d536003796da>\"\u001b[1;36m, line \u001b[1;32m12\u001b[0m\n\u001b[1;33m    else:\u001b[0m\n\u001b[1;37m       ^\u001b[0m\n\u001b[1;31mSyntaxError\u001b[0m\u001b[1;31m:\u001b[0m invalid syntax\n"
     ]
    }
   ],
   "source": [
    "username = 'Vikash'\n",
    "Password = 'Jyoti@1995'\n",
    "i = 0\n",
    "while i <3:\n",
    "    username=input(\"enter the username\")\n",
    "    Password=input(\"enter the password\")\n",
    "    if username == 'Vikash' and Password == 'Jyoti@1995':\n",
    "        print(\"login successfully\")\n",
    "        i+=1\n",
    "        break\n",
    "       \n",
    "        else:\n",
    "    \n",
    "            print(\"please try again\")\n",
    "            "
   ]
  },
  {
   "cell_type": "code",
   "execution_count": null,
   "metadata": {},
   "outputs": [],
   "source": [
    "lst  =[1,2,3,4,5,6]\n",
    "lst.append(9)"
   ]
  },
  {
   "cell_type": "code",
   "execution_count": 4,
   "metadata": {},
   "outputs": [
    {
     "name": "stdout",
     "output_type": "stream",
     "text": [
      "enter the number67\n"
     ]
    }
   ],
   "source": [
    "X = int(input(\"enter the number\")) \n"
   ]
  },
  {
   "cell_type": "code",
   "execution_count": 6,
   "metadata": {},
   "outputs": [
    {
     "ename": "SyntaxError",
     "evalue": "unexpected EOF while parsing (<ipython-input-6-125bed2cab72>, line 1)",
     "output_type": "error",
     "traceback": [
      "\u001b[1;36m  File \u001b[1;32m\"<ipython-input-6-125bed2cab72>\"\u001b[1;36m, line \u001b[1;32m1\u001b[0m\n\u001b[1;33m    squares = list(map(lambda x:x**2,range(len(X)))\u001b[0m\n\u001b[1;37m                                                   ^\u001b[0m\n\u001b[1;31mSyntaxError\u001b[0m\u001b[1;31m:\u001b[0m unexpected EOF while parsing\n"
     ]
    }
   ],
   "source": [
    "\n"
   ]
  },
  {
   "cell_type": "code",
   "execution_count": 10,
   "metadata": {},
   "outputs": [
    {
     "data": {
      "text/plain": [
       "[0, 1, 4, 9, 16, 25, 36, 49, 64, 81]"
      ]
     },
     "execution_count": 10,
     "metadata": {},
     "output_type": "execute_result"
    }
   ],
   "source": [
    "squares"
   ]
  },
  {
   "cell_type": "code",
   "execution_count": 1,
   "metadata": {},
   "outputs": [
    {
     "name": "stdout",
     "output_type": "stream",
     "text": [
      "Abd\n"
     ]
    }
   ],
   "source": [
    "try:\n",
    "    int(dascds)\n",
    "raise error:\n",
    "    inst = -1\n",
    "print(\"Abd\")"
   ]
  },
  {
   "cell_type": "code",
   "execution_count": 4,
   "metadata": {},
   "outputs": [
    {
     "name": "stdout",
     "output_type": "stream",
     "text": [
      "enter the value7\n",
      "Good\n"
     ]
    }
   ],
   "source": [
    "rawc = input(\"enter the value\")\n",
    "try:\n",
    "    ival = int(rawc)\n",
    "except:\n",
    "    ival =-1\n",
    "if ival>1:\n",
    "    print(\"Good\")\n",
    "else :\n",
    "    print(\"bad\")"
   ]
  },
  {
   "cell_type": "code",
   "execution_count": 10,
   "metadata": {},
   "outputs": [
    {
     "name": "stdout",
     "output_type": "stream",
     "text": [
      "enter the hrs40\n",
      "enter the payment for less than 40 hrs100\n",
      "payment 4000\n"
     ]
    }
   ],
   "source": [
    "# if \n",
    "user = int(input(\"enter the hrs\"))\n",
    "user2 = int(input(\"enter the payment for less than 40 hrs\"))\n",
    "if user >40:\n",
    "    v = user * user2\n",
    "    v1 = (user - 40)*(user2*0.5)\n",
    "    \n",
    "    xp=v + v1\n",
    "    print(\"payment\",xp)\n",
    "else:\n",
    "    xp = user * user2\n",
    "    print(\"payment\",xp)"
   ]
  },
  {
   "cell_type": "code",
   "execution_count": 2,
   "metadata": {},
   "outputs": [
    {
     "name": "stdout",
     "output_type": "stream",
     "text": [
      "enter the hrs3\n",
      "enter the payment for less than 40 hrs5\n",
      "payment 15\n"
     ]
    }
   ],
   "source": [
    "\n",
    "user = input(\"enter the hrs\")\n",
    "user2 = input(\"enter the payment for less than 40 hrs\")\n",
    "try:\n",
    "    x1 = int(user)\n",
    "    x2 = int(user2)\n",
    "except:\n",
    "    print(\"Error: please enter the number\")\n",
    "    quit()\n",
    "    \n",
    "if x1>40:\n",
    "    v = x1 * x2\n",
    "    v1 = (x1 - 40)*(x2*0.5)\n",
    "     \n",
    "    xp=v + v1\n",
    "    print(\"payment\",xp)\n",
    "else:\n",
    "    xp = x1 * x2\n",
    "    print(\"payment\",xp)"
   ]
  },
  {
   "cell_type": "code",
   "execution_count": 18,
   "metadata": {},
   "outputs": [
    {
     "ename": "TypeError",
     "evalue": "list indices must be integers or slices, not str",
     "output_type": "error",
     "traceback": [
      "\u001b[1;31m---------------------------------------------------------------------------\u001b[0m",
      "\u001b[1;31mTypeError\u001b[0m                                 Traceback (most recent call last)",
      "\u001b[1;32m<ipython-input-18-98fef7a39ce9>\u001b[0m in \u001b[0;36m<module>\u001b[1;34m\u001b[0m\n\u001b[0;32m      3\u001b[0m \u001b[0mt3\u001b[0m \u001b[1;33m=\u001b[0m\u001b[1;33m[\u001b[0m\u001b[1;33m]\u001b[0m\u001b[1;33m\u001b[0m\u001b[1;33m\u001b[0m\u001b[0m\n\u001b[0;32m      4\u001b[0m \u001b[1;32mfor\u001b[0m \u001b[0mi\u001b[0m \u001b[1;32min\u001b[0m \u001b[0mT\u001b[0m \u001b[1;33m:\u001b[0m\u001b[1;33m\u001b[0m\u001b[1;33m\u001b[0m\u001b[0m\n\u001b[1;32m----> 5\u001b[1;33m     \u001b[1;32mif\u001b[0m \u001b[0mT1\u001b[0m\u001b[1;33m[\u001b[0m\u001b[0mi\u001b[0m\u001b[1;33m]\u001b[0m \u001b[1;32min\u001b[0m \u001b[0mT\u001b[0m\u001b[1;33m:\u001b[0m\u001b[1;33m\u001b[0m\u001b[1;33m\u001b[0m\u001b[0m\n\u001b[0m\u001b[0;32m      6\u001b[0m         \u001b[0mt3\u001b[0m\u001b[1;33m.\u001b[0m\u001b[0mappend\u001b[0m\u001b[1;33m(\u001b[0m\u001b[0mT1\u001b[0m\u001b[1;33m)\u001b[0m\u001b[1;33m\u001b[0m\u001b[1;33m\u001b[0m\u001b[0m\n\u001b[0;32m      7\u001b[0m \u001b[0mprint\u001b[0m\u001b[1;33m(\u001b[0m\u001b[0mt3\u001b[0m\u001b[1;33m)\u001b[0m\u001b[1;33m\u001b[0m\u001b[1;33m\u001b[0m\u001b[0m\n",
      "\u001b[1;31mTypeError\u001b[0m: list indices must be integers or slices, not str"
     ]
    }
   ],
   "source": [
    "T = open(r\"C:\\Users\\Admin\\Downloads\\country.csv\",'r').readlines()\n",
    "T1 = open(r\"C:\\Users\\Admin\\Downloads\\location schema (7).csv\",'r').readlines()\n",
    "for i in T :\n",
    "    "
   ]
  },
  {
   "cell_type": "markdown",
   "metadata": {},
   "source": [
    "# OOPS"
   ]
  },
  {
   "cell_type": "code",
   "execution_count": null,
   "metadata": {},
   "outputs": [],
   "source": [
    "'''class------>1.class variable\n",
    "            2.class method\n",
    "oject ----->1.object variable\n",
    "            2.object method\n",
    "class --->collection of object'''"
   ]
  },
  {
   "cell_type": "code",
   "execution_count": null,
   "metadata": {},
   "outputs": [],
   "source": [
    "class student():\n",
    "    pass\n",
    "    def __init__(self):   #__init__  ------>instructor \n",
    "        print(\"inside\")\n",
    "        self.name = name\n",
    "        self.age = age\n",
    "        self.course = \"Python\"\n",
    "print(\"before\")       \n",
    "obj  = student()\n",
    "print(\"After\")\n",
    "print(obj.name)\n",
    "obj1 = student()\n",
    "print(obj1.age)\n"
   ]
  },
  {
   "cell_type": "code",
   "execution_count": null,
   "metadata": {},
   "outputs": [],
   "source": []
  },
  {
   "cell_type": "code",
   "execution_count": null,
   "metadata": {},
   "outputs": [],
   "source": []
  }
 ],
 "metadata": {
  "kernelspec": {
   "display_name": "Python 3",
   "language": "python",
   "name": "python3"
  },
  "language_info": {
   "codemirror_mode": {
    "name": "ipython",
    "version": 3
   },
   "file_extension": ".py",
   "mimetype": "text/x-python",
   "name": "python",
   "nbconvert_exporter": "python",
   "pygments_lexer": "ipython3",
   "version": "3.7.4"
  }
 },
 "nbformat": 4,
 "nbformat_minor": 2
}
