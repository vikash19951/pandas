{
 "cells": [
  {
   "cell_type": "code",
   "execution_count": null,
   "metadata": {},
   "outputs": [],
   "source": [
    "'''\n",
    "Statistics: - Book --- Statistics in Plain English\n",
    "\n",
    "\n",
    "\n",
    "\n",
    "'''"
   ]
  },
  {
   "cell_type": "code",
   "execution_count": null,
   "metadata": {},
   "outputs": [],
   "source": [
    "'''\n",
    "FOR Machin Learning\n",
    "\n",
    "Ashish Kumar\n",
    "Learning Pridictive Analyst with Python\n",
    "\n",
    "'''"
   ]
  },
  {
   "cell_type": "code",
   "execution_count": null,
   "metadata": {},
   "outputs": [],
   "source": [
    "'''\n",
    "\n",
    "Machin Learning :- All about Forcasting\n",
    "\n",
    "1 Supervised\n",
    "2 Un-Supervised\n",
    "\n",
    "'''"
   ]
  },
  {
   "cell_type": "code",
   "execution_count": 19,
   "metadata": {},
   "outputs": [
    {
     "data": {
      "text/html": [
       "<div>\n",
       "<style scoped>\n",
       "    .dataframe tbody tr th:only-of-type {\n",
       "        vertical-align: middle;\n",
       "    }\n",
       "\n",
       "    .dataframe tbody tr th {\n",
       "        vertical-align: top;\n",
       "    }\n",
       "\n",
       "    .dataframe thead th {\n",
       "        text-align: right;\n",
       "    }\n",
       "</style>\n",
       "<table border=\"1\" class=\"dataframe\">\n",
       "  <thead>\n",
       "    <tr style=\"text-align: right;\">\n",
       "      <th></th>\n",
       "      <th>Athlete</th>\n",
       "      <th>Country</th>\n",
       "      <th>Year</th>\n",
       "      <th>Sport</th>\n",
       "      <th>Gold</th>\n",
       "      <th>Silver</th>\n",
       "      <th>Bronze</th>\n",
       "      <th>Total</th>\n",
       "    </tr>\n",
       "  </thead>\n",
       "  <tbody>\n",
       "    <tr>\n",
       "      <th>0</th>\n",
       "      <td>Yang Yilin</td>\n",
       "      <td>China</td>\n",
       "      <td>2008</td>\n",
       "      <td>Gymnastics</td>\n",
       "      <td>1</td>\n",
       "      <td>0</td>\n",
       "      <td>2</td>\n",
       "      <td>3</td>\n",
       "    </tr>\n",
       "    <tr>\n",
       "      <th>1</th>\n",
       "      <td>Leisel Jones</td>\n",
       "      <td>Australia</td>\n",
       "      <td>2000</td>\n",
       "      <td>Swimming</td>\n",
       "      <td>0</td>\n",
       "      <td>2</td>\n",
       "      <td>0</td>\n",
       "      <td>2</td>\n",
       "    </tr>\n",
       "    <tr>\n",
       "      <th>2</th>\n",
       "      <td>Go Gi-Hyeon</td>\n",
       "      <td>South Korea</td>\n",
       "      <td>2002</td>\n",
       "      <td>Short-Track Speed Skating</td>\n",
       "      <td>1</td>\n",
       "      <td>1</td>\n",
       "      <td>0</td>\n",
       "      <td>2</td>\n",
       "    </tr>\n",
       "    <tr>\n",
       "      <th>3</th>\n",
       "      <td>Chen Ruolin</td>\n",
       "      <td>China</td>\n",
       "      <td>2008</td>\n",
       "      <td>Diving</td>\n",
       "      <td>2</td>\n",
       "      <td>0</td>\n",
       "      <td>0</td>\n",
       "      <td>2</td>\n",
       "    </tr>\n",
       "    <tr>\n",
       "      <th>4</th>\n",
       "      <td>Katie Ledecky</td>\n",
       "      <td>United States</td>\n",
       "      <td>2012</td>\n",
       "      <td>Swimming</td>\n",
       "      <td>1</td>\n",
       "      <td>0</td>\n",
       "      <td>0</td>\n",
       "      <td>1</td>\n",
       "    </tr>\n",
       "  </tbody>\n",
       "</table>\n",
       "</div>"
      ],
      "text/plain": [
       "         Athlete        Country  Year                      Sport  Gold  \\\n",
       "0     Yang Yilin          China  2008                 Gymnastics     1   \n",
       "1   Leisel Jones      Australia  2000                   Swimming     0   \n",
       "2    Go Gi-Hyeon    South Korea  2002  Short-Track Speed Skating     1   \n",
       "3    Chen Ruolin          China  2008                     Diving     2   \n",
       "4  Katie Ledecky  United States  2012                   Swimming     1   \n",
       "\n",
       "   Silver  Bronze  Total  \n",
       "0       0       2      3  \n",
       "1       2       0      2  \n",
       "2       1       0      2  \n",
       "3       0       0      2  \n",
       "4       0       0      1  "
      ]
     },
     "execution_count": 19,
     "metadata": {},
     "output_type": "execute_result"
    }
   ],
   "source": [
    "import pandas as pd\n",
    "data = pd.read_csv(\"OlympicAthletes.csv\",sep=',')\n",
    "data.head()\n"
   ]
  },
  {
   "cell_type": "code",
   "execution_count": 7,
   "metadata": {},
   "outputs": [
    {
     "data": {
      "text/plain": [
       "9529"
      ]
     },
     "execution_count": 7,
     "metadata": {},
     "output_type": "execute_result"
    }
   ],
   "source": [
    "data['Total'].sum()"
   ]
  },
  {
   "cell_type": "code",
   "execution_count": 8,
   "metadata": {},
   "outputs": [
    {
     "data": {
      "text/plain": [
       "(8618, 8)"
      ]
     },
     "execution_count": 8,
     "metadata": {},
     "output_type": "execute_result"
    }
   ],
   "source": [
    "data.shape"
   ]
  },
  {
   "cell_type": "code",
   "execution_count": 9,
   "metadata": {},
   "outputs": [
    {
     "data": {
      "text/plain": [
       "Athlete    object\n",
       "Country    object\n",
       "Year        int64\n",
       "Sport      object\n",
       "Gold        int64\n",
       "Silver      int64\n",
       "Bronze      int64\n",
       "Total       int64\n",
       "dtype: object"
      ]
     },
     "execution_count": 9,
     "metadata": {},
     "output_type": "execute_result"
    }
   ],
   "source": [
    "data.dtypes"
   ]
  },
  {
   "cell_type": "code",
   "execution_count": 10,
   "metadata": {},
   "outputs": [
    {
     "data": {
      "text/plain": [
       "Athlete    5\n",
       "Country    0\n",
       "Year       0\n",
       "Sport      0\n",
       "Gold       0\n",
       "Silver     0\n",
       "Bronze     0\n",
       "Total      0\n",
       "dtype: int64"
      ]
     },
     "execution_count": 10,
     "metadata": {},
     "output_type": "execute_result"
    }
   ],
   "source": [
    "data.isna().sum()"
   ]
  },
  {
   "cell_type": "markdown",
   "metadata": {},
   "source": [
    "## 1. Top 5 Countries in medals count."
   ]
  },
  {
   "cell_type": "code",
   "execution_count": 49,
   "metadata": {},
   "outputs": [
    {
     "data": {
      "text/plain": [
       "Country\n",
       "United States    1312\n",
       "Russia            768\n",
       "Germany           629\n",
       "Australia         609\n",
       "China             530\n",
       "Name: sum, dtype: int64"
      ]
     },
     "execution_count": 49,
     "metadata": {},
     "output_type": "execute_result"
    }
   ],
   "source": [
    "data.groupby('Country').Total.agg(['sum'])['sum'].sort_values(ascending = False).head()"
   ]
  },
  {
   "cell_type": "markdown",
   "metadata": {},
   "source": [
    "## 2. Highest Medals by country excluding swimming"
   ]
  },
  {
   "cell_type": "code",
   "execution_count": 56,
   "metadata": {},
   "outputs": [],
   "source": [
    "new_data = data[data.Sport != \"Swimming\"]"
   ]
  },
  {
   "cell_type": "code",
   "execution_count": 59,
   "metadata": {},
   "outputs": [
    {
     "data": {
      "text/plain": [
       "Country\n",
       "United States    1045\n",
       "Russia            748\n",
       "Germany           597\n",
       "China             495\n",
       "Australia         446\n",
       "Name: sum, dtype: int64"
      ]
     },
     "execution_count": 59,
     "metadata": {},
     "output_type": "execute_result"
    }
   ],
   "source": [
    "new_data.groupby('Country').Total.agg(['sum'])['sum'].sort_values(ascending = False).head()"
   ]
  },
  {
   "cell_type": "markdown",
   "metadata": {},
   "source": [
    "## 3. Athletes who have won same Number of gold medals in every olympics"
   ]
  },
  {
   "cell_type": "code",
   "execution_count": 40,
   "metadata": {},
   "outputs": [
    {
     "name": "stdout",
     "output_type": "stream",
     "text": [
      "These is no athlete who won same number of medals in continuous olympics\n"
     ]
    }
   ],
   "source": [
    "temp_dict = dict()\n",
    "ath_list = []\n",
    "year = iter(data.Year)\n",
    "total = iter(data.Total)\n",
    "for ath in data.Athlete:\n",
    "    temp = []\n",
    "    y = year.__next__()\n",
    "    temp.append(y)\n",
    "    t = total.__next__()\n",
    "    temp.append(t)\n",
    "    if ath not in temp_dict.keys():\n",
    "        temp_dict.update({ath:temp})\n",
    "    else:\n",
    "        x = temp_dict[ath]\n",
    "        if x[0]+2==temp[0] and x[1]==temp[1]:\n",
    "            ath_list.append(ath)\n",
    "if len(ath_list)>0:\n",
    "    for i in ath_list:\n",
    "        print(i)\n",
    "else:\n",
    "    print(\"These is no athlete who won same number of medals in continuous olympics\")"
   ]
  },
  {
   "cell_type": "markdown",
   "metadata": {},
   "source": [
    "## 4. Country who have won most gold medals and second in the Total medals list"
   ]
  },
  {
   "cell_type": "code",
   "execution_count": 114,
   "metadata": {},
   "outputs": [
    {
     "data": {
      "text/plain": [
       "Total         530.0\n",
       "Total_Gold    234.0\n",
       "Ranking         2.0\n",
       "Name: China, dtype: float64"
      ]
     },
     "execution_count": 114,
     "metadata": {},
     "output_type": "execute_result"
    }
   ],
   "source": [
    "Gold_n_total = data.groupby('Country').Total.agg(['sum'])\n",
    "Gold_n_total.rename(columns = {'sum':'Total'},inplace = True)\n",
    "Gold_n_total['Total_Gold']= data.groupby('Country').Gold.agg(['sum'])['sum']\n",
    "Gold_n_total.sort_values('Total',ascending = False,inplace = True)\n",
    "Gold_n_total.sort_values('Total_Gold',ascending = False,inplace = True)\n",
    "Gold_n_total['Ranking'] = Gold_n_total['Total_Gold'].rank(ascending = False,method = 'min')\n",
    "Gold_n_total.head()\n",
    "Gold_n_total.iloc[1,:]"
   ]
  },
  {
   "cell_type": "code",
   "execution_count": null,
   "metadata": {},
   "outputs": [],
   "source": []
  }
 ],
 "metadata": {
  "kernelspec": {
   "display_name": "Python 3",
   "language": "python",
   "name": "python3"
  },
  "language_info": {
   "codemirror_mode": {
    "name": "ipython",
    "version": 3
   },
   "file_extension": ".py",
   "mimetype": "text/x-python",
   "name": "python",
   "nbconvert_exporter": "python",
   "pygments_lexer": "ipython3",
   "version": "3.7.4"
  }
 },
 "nbformat": 4,
 "nbformat_minor": 2
}
