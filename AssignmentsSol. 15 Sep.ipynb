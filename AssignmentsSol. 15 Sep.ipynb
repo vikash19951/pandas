{
 "cells": [
  {
   "cell_type": "markdown",
   "metadata": {},
   "source": [
    "### Do Task Based on selection"
   ]
  },
  {
   "cell_type": "code",
   "execution_count": 3,
   "metadata": {},
   "outputs": [
    {
     "name": "stdout",
     "output_type": "stream",
     "text": [
      "To print the First element of the list enter 1:\n",
      "To print the Middle element of the list enter 2:\n",
      "To print the Last element of the list enter 3:\n",
      "To quit enter 9:\n",
      "enter the choice: \n",
      "9\n",
      "The Task is Done....\n"
     ]
    }
   ],
   "source": [
    "list=[1,2,3,4,5,6,7]\n",
    "middle=int(len(list)/2)\n",
    "\n",
    "while(True):\n",
    "    print(\"To print the First element of the list enter 1:\")\n",
    "    print(\"To print the Middle element of the list enter 2:\")\n",
    "    print(\"To print the Last element of the list enter 3:\")\n",
    "    print(\"To quit enter 9:\")\n",
    "    ch = int(input(\"enter the choice: \\n\"))\n",
    "\n",
    "    if(ch==1):\n",
    "        print(\"The first element is :\",list[0])\n",
    "        break\n",
    "    elif(ch==2):\n",
    "        print(\"The Middle element is :\",list[middle])\n",
    "        break\n",
    "    elif(ch==3):\n",
    "        print(\"The Last element is :\",list[-1])\n",
    "        break\n",
    "    elif(ch==9):\n",
    "        break\n",
    "\n",
    "    else:\n",
    "        print(\"Not a valid choice...try again...\")\n",
    "        continue\n",
    "\n",
    "print(\"The Task is Done....\")\n"
   ]
  },
  {
   "cell_type": "markdown",
   "metadata": {},
   "source": [
    "## To encrypt a User Input"
   ]
  },
  {
   "cell_type": "code",
   "execution_count": 2,
   "metadata": {},
   "outputs": [
    {
     "name": "stdout",
     "output_type": "stream",
     "text": [
      "Enter the Data to encrypt..: 1\n",
      "3A\n"
     ]
    }
   ],
   "source": [
    "d={'A':'0Q', 'a':'1@', 'B':'15', 'c':'db', 'o':'00', 'd':'4$', 'D':'5%', 'e':'4^',\n",
    "   'l':'1#', 'i':'1*', '1':'3A', '2':'T0', '3':'Q0', 'b':'$1'\n",
    "   }\n",
    "\n",
    "message=''\n",
    "user_input = input(\"Enter the Data to encrypt..: \")\n",
    "for i in user_input:\n",
    "    if i in d.keys():\n",
    "        message=message+d[i]\n",
    "    else:\n",
    "        message=message+i\n",
    "\n",
    "print(message)"
   ]
  },
  {
   "cell_type": "markdown",
   "metadata": {},
   "source": [
    "## Data Validation\n",
    "D|ABC inc|India|250\n",
    "D|XYZ inc|USA|100\n",
    "D|ASD inc|UK|50\n",
    "T|3|400"
   ]
  },
  {
   "cell_type": "code",
   "execution_count": 3,
   "metadata": {},
   "outputs": [
    {
     "name": "stdout",
     "output_type": "stream",
     "text": [
      "The Data is Valid...\n",
      "End....\n"
     ]
    }
   ],
   "source": [
    "l1=[]\n",
    "l2=[]\n",
    "\n",
    "with open (\"E:\\PythonProjects\\datafiles\\dfile.txt\", 'r') as f:\n",
    "    c=f.readlines()\n",
    "\n",
    "    for i in c:\n",
    "        if i[0]=='D':\n",
    "            l1.append(i)\n",
    "        else:\n",
    "            l2.append(i)\n",
    "\n",
    "c=0\n",
    "s=0\n",
    "for i in l1:\n",
    "    e= i.split(\"|\")\n",
    "    for i in e:\n",
    "        f=i.strip('\\n')\n",
    "    s=s+int(f)\n",
    "    c+=1\n",
    "\n",
    "l3=l2[0].split('|')\n",
    "if(l3[1]==str(c) and l3[2]==str(s)):\n",
    "    print(\"The Data is Valid...\")\n",
    "else:\n",
    "    print(\"Invalid Data...\")\n",
    "\n",
    "print(\"End....\")"
   ]
  },
  {
   "cell_type": "markdown",
   "metadata": {},
   "source": [
    "### Linux command to print unique users "
   ]
  },
  {
   "cell_type": "code",
   "execution_count": null,
   "metadata": {},
   "outputs": [],
   "source": [
    "$ ls -ltr | cut -f 3 | uniq > file1\n",
    "cat file1"
   ]
  }
 ],
 "metadata": {
  "kernelspec": {
   "display_name": "Python 3",
   "language": "python",
   "name": "python3"
  },
  "language_info": {
   "codemirror_mode": {
    "name": "ipython",
    "version": 3
   },
   "file_extension": ".py",
   "mimetype": "text/x-python",
   "name": "python",
   "nbconvert_exporter": "python",
   "pygments_lexer": "ipython3",
   "version": "3.7.4"
  }
 },
 "nbformat": 4,
 "nbformat_minor": 2
}
